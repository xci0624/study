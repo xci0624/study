{
 "cells": [
  {
   "cell_type": "code",
   "execution_count": 2,
   "id": "cf99faf7",
   "metadata": {},
   "outputs": [],
   "source": [
    "# 연예인 사진 모으기 프로젝트\n",
    "RESTAPI_key = 'b409a9bff18148c2341a48bd2885a2f3'"
   ]
  },
  {
   "cell_type": "code",
   "execution_count": 9,
   "id": "11f1ed26",
   "metadata": {},
   "outputs": [],
   "source": [
    "headers = {\n",
    "    'Authorization' : 'KakaoAK b409a9bff18148c2341a48bd2885a2f3'\n",
    "}\n",
    "import requests\n",
    "import json"
   ]
  },
  {
   "cell_type": "code",
   "execution_count": 10,
   "id": "7cc6d4e9",
   "metadata": {},
   "outputs": [],
   "source": [
    "# 파일 읽고 쓰기\n",
    "data = '연예인 사진 모으기 프로젝트'\n",
    "with open('test.txt', 'w') as fp:\n",
    "    fp.write(data)"
   ]
  },
  {
   "cell_type": "code",
   "execution_count": 11,
   "id": "34dc8c53",
   "metadata": {},
   "outputs": [
    {
     "name": "stdout",
     "output_type": "stream",
     "text": [
      "파일 읽기 결과\n",
      "연예인 사진 모으기 프로젝트\n"
     ]
    }
   ],
   "source": [
    "# 파일 읽기\n",
    "with open('test.txt', 'r') as fp:\n",
    "    print('파일 읽기 결과')\n",
    "    print(fp.read())"
   ]
  },
  {
   "cell_type": "code",
   "execution_count": 6,
   "id": "e8d0da6c",
   "metadata": {},
   "outputs": [],
   "source": [
    "# 이미지 파일 저장하기\n",
    "def save_image(image_url, file_name):\n",
    "    img_response = requests.get(image_url)\n",
    "    # 요청에 성공 헀다면\n",
    "    if img_response.status_code == 200:\n",
    "        # 파일에 저장\n",
    "        with open(file_name, 'wb') as fp:\n",
    "            fp.write(img_response.content)"
   ]
  },
  {
   "cell_type": "code",
   "execution_count": null,
   "id": "112998eb",
   "metadata": {},
   "outputs": [],
   "source": []
  },
  {
   "cell_type": "code",
   "execution_count": 33,
   "id": "2711cdc0",
   "metadata": {},
   "outputs": [
    {
     "data": {
      "text/plain": [
       "'4'"
      ]
     },
     "execution_count": 33,
     "metadata": {},
     "output_type": "execute_result"
    }
   ],
   "source": [
    "a"
   ]
  },
  {
   "cell_type": "code",
   "execution_count": 17,
   "id": "ea46b79c",
   "metadata": {},
   "outputs": [],
   "source": [
    "def func1():\n",
    "    import requests\n",
    "    import json\n",
    "    def save_image(image_url, file_name):\n",
    "        \n",
    "        img_response = requests.get(image_url)\n",
    "        # 요청에 성공 헀다면\n",
    "        if img_response.status_code == 200:\n",
    "            # 파일에 저장\n",
    "            with open(file_name, 'wb') as fp:\n",
    "                fp.write(img_response.content)\n",
    "    headers = {\n",
    "    'Authorization' : 'KakaoAK b409a9bff18148c2341a48bd2885a2f3'\n",
    "    }\n",
    "    serch = input('검색어 : ')\n",
    "    pages = int(input('크롤링 할 페이지 수: '))\n",
    "    count = 0\n",
    "\n",
    "    for i in range(1,pages+1):\n",
    "        url = \"https://dapi.kakao.com/v2/search/image\"\n",
    "        headers = {\n",
    "            'Authorization' : 'KakaoAK b409a9bff18148c2341a48bd2885a2f3'\n",
    "        }\n",
    "\n",
    "        data = {\n",
    "            'query' : '{0}'.format(serch),\n",
    "            'page' : '{0}'.format(i)\n",
    "        }\n",
    "\n",
    "\n",
    "        # 이미지 검색 요청\n",
    "        response = requests.post(url, headers=headers, data=data)\n",
    "        if response.status_code != 200:\n",
    "            print('=========[ERROR]========== !  because', response.json())\n",
    "        else: #  성공했다면\n",
    "            for image_info in response.json()['documents']:\n",
    "                print(f'[{count} th] image_url =  ', image_info['image_url'])\n",
    "                # 저장될 이미지 파일명 설정\n",
    "                count = count + 1 \n",
    "                file_name = './연예인 사진/{0}{1}.jpg'.format(serch,count)\n",
    "        \n",
    "                # 이미지 저장\n",
    "                save_image(image_info['image_url'], file_name)\n",
    "        count += 1"
   ]
  },
  {
   "cell_type": "code",
   "execution_count": 14,
   "id": "98009691",
   "metadata": {},
   "outputs": [
    {
     "name": "stdout",
     "output_type": "stream",
     "text": [
      "검색어 : 카리나\n",
      "크롤링 할 페이지 수: 2\n",
      "[0 th] image_url =   https://t1.daumcdn.net/news/202209/30/xportsnews/20220930133102264aujd.jpg\n",
      "[1 th] image_url =   https://k.kakaocdn.net/dn/cbB2JV/btrPDk3oOLR/sinyWnYrUhjzMzhdUeWGB0/img.jpg\n",
      "[2 th] image_url =   https://k.kakaocdn.net/dn/0bODO/btrQb3ZpEyv/O0PH5J6KRkZvYI5M5lj4Kk/img.jpg\n",
      "[3 th] image_url =   https://t1.daumcdn.net/news/202202/22/sportskhan/20220222102721830lcit.jpg\n",
      "[4 th] image_url =   https://k.kakaocdn.net/dn/OnWUo/btrNN0q445F/QlP98yvAfuLYNZhnjfHk6K/img.jpg\n",
      "[5 th] image_url =   https://k.kakaocdn.net/dn/beNflW/btrGRHeh4Ca/cPN99RNuCi7cjBhSmYWrk1/img.jpg\n",
      "[6 th] image_url =   https://t1.daumcdn.net/news/202207/10/spotvnews/20220710221922596fkdz.jpg\n",
      "[7 th] image_url =   https://t1.daumcdn.net/cafeattach/1YmK3/707a3ef01292a85419cc0abf856bbf3658613ec9\n",
      "[8 th] image_url =   https://t1.daumcdn.net/cafeattach/1YmK3/36fb27e66fc08f8e941efc479822ffcab0a63c46\n",
      "[9 th] image_url =   https://k.kakaocdn.net/dn/BbUpM/btrKUklD34s/w9zVkG7GiIvcoqOXyKd9e1/img.jpg\n",
      "[10 th] image_url =   https://t1.daumcdn.net/cafeattach/1YJNK/d044fe55af506b4914b8884df33b84870159a917\n",
      "[11 th] image_url =   https://k.kakaocdn.net/dn/q5LdI/btrG3qP9lkg/kkTHKDcd9JjO1JhaKhARN0/img.jpg\n",
      "[12 th] image_url =   https://t1.daumcdn.net/cafeattach/mEr9/20d4d803a25b96565ac1f71aa2aadc06eb44d133_re_1658381788859\n",
      "[13 th] image_url =   https://t1.daumcdn.net/cafeattach/1YmK3/8967012488ea9a65f387fe4ba871eccf4812d08a\n",
      "[14 th] image_url =   https://t1.daumcdn.net/cafeattach/1YmK3/eaeace01260d4d5f6cc8cc3df0669755cf2cc09f\n",
      "[15 th] image_url =   https://t1.daumcdn.net/cafeattach/1YJNK/7db49daa4ce30f99bae0671058f1d3b6bb9e4222\n",
      "[16 th] image_url =   https://t1.daumcdn.net/cafeattach/1YmK3/7bdc3ae6696fcbed97d6fa369b8292a8a60896e4_re_1656856134028\n",
      "[17 th] image_url =   https://t1.daumcdn.net/cafeattach/1YmK3/1b6255348230918592590b1cbc54967e5b7326e5\n",
      "[18 th] image_url =   https://upload3.inven.co.kr/upload/2022/04/11/bbs/i15500482773.jpg?MW=800\n",
      "[19 th] image_url =   https://k.kakaocdn.net/dn/lE1zP/btrOTkBEWJv/PUylzQ6p7TL7UKVt8BHPB1/img.jpg\n",
      "[20 th] image_url =   https://t1.daumcdn.net/cafeattach/1YmK3/b422a308265fba0d3827322877bd7a75238046ee\n",
      "[21 th] image_url =   https://upload3.inven.co.kr/upload/2022/09/30/bbs/i14509839620.jpg?MW=800\n",
      "[22 th] image_url =   https://t1.daumcdn.net/cafeattach/mEr9/edab5ee177679ff00c0b2460cce77317eb169abb_re_1658381788859\n",
      "[23 th] image_url =   https://t1.daumcdn.net/cafeattach/mEr9/670fb8b6887a0bed302caba3607a16b9e2df0fed_re_1658381788859\n",
      "[24 th] image_url =   https://t1.daumcdn.net/news/202112/02/starnews/20211202224330801coeu.jpg\n",
      "[25 th] image_url =   https://t1.daumcdn.net/cafeattach/1XwS9/76fca0c9e38a063c89911fd8ff9d81207875ff3d\n",
      "[26 th] image_url =   https://upload3.inven.co.kr/upload/2022/09/30/bbs/i14593362518.jpg?MW=800\n",
      "[27 th] image_url =   https://t1.daumcdn.net/cafeattach/1YmK3/5c6416bd0e3b90f77c7d4a58ab51d4b0d1e5204e\n",
      "[28 th] image_url =   https://t1.daumcdn.net/cafeattach/1YmK3/353b821e828b41e2de23194bc52058cf48d4ce03\n",
      "[29 th] image_url =   https://t1.daumcdn.net/cafeattach/mEr9/eaf0d6fe279f6ad2043057102179c1fadfc2df8a\n",
      "[30 th] image_url =   https://k.kakaocdn.net/dn/d9n901/btrNNfbi1b3/NN2EjiM1I3j1POMUbKKfo1/img.png\n",
      "[31 th] image_url =   https://t1.daumcdn.net/cafeattach/1YmK3/3d9276a0cfd809a5691e7ae220ef5f1760de7616\n",
      "[32 th] image_url =   https://t1.daumcdn.net/cafeattach/1YmK3/f307602184f6ef8c1a345dbc311125106ab2ffac_re_1656856134029\n",
      "[33 th] image_url =   https://t1.daumcdn.net/cafeattach/1YJNK/f18cafcf191bff9a223cdd6953db762afd6c735b\n",
      "[34 th] image_url =   https://t1.daumcdn.net/cafeattach/1YmK3/64d5bd6c46d66890ffbdd133ae639c4e80ec6354\n",
      "[35 th] image_url =   https://t1.daumcdn.net/cafeattach/1YmK3/84bab1c0e3b5d30d4803c39bcf722a51a24074c3\n",
      "[36 th] image_url =   https://image.fmkorea.com/files/attach/new2/20221008/486616/803488095/5087803717/f0ceb48a814af4dbdc4cae5e97d01a61.png\n",
      "[37 th] image_url =   https://t1.daumcdn.net/cafeattach/1IHuH/d452804e12d3b93f8cf54c04946f7e50c88a815b\n",
      "[38 th] image_url =   https://t1.daumcdn.net/cafeattach/1YmK3/6005b6508aed739804bc29e28c2a871711e0d334\n",
      "[39 th] image_url =   https://t1.daumcdn.net/cafeattach/1YmK3/dc75c0d3bd30a5b438f3cf9dd8f63566f95fddfb\n",
      "[40 th] image_url =   https://t1.daumcdn.net/cafeattach/1YmK3/b8c05673e21ca8216952f9d754031b5c2a07f1a2\n",
      "[41 th] image_url =   https://t1.daumcdn.net/cafeattach/1YmK3/67669842741a759ebfa9639ae44ae96f1251ec36\n",
      "[42 th] image_url =   https://t1.daumcdn.net/cafeattach/1YmK3/12f065c4c03f94ef929799f254b4108a8a4f9f2c\n",
      "[43 th] image_url =   https://k.kakaocdn.net/dn/CSTcH/btrO4pdcUyH/UNRO2L3Hkf3ht2bHDmBADk/img.jpg\n",
      "[44 th] image_url =   https://t1.daumcdn.net/cafeattach/1YmK3/495387c0cc2276da0c29042c3d48c4042255b416\n",
      "[45 th] image_url =   https://t1.daumcdn.net/cafeattach/1YmK3/b87f12521ae41cdf8d5ef16eee951d9c01169c9b\n",
      "[46 th] image_url =   https://t1.daumcdn.net/cafeattach/1YmK3/49a11f7b42f7f96243554438d8c1c23b17ec84dd\n",
      "[47 th] image_url =   https://t1.daumcdn.net/cafeattach/mEr9/c36776ab416876d8cc412254f7f049971c64a772_re_1656068293151\n",
      "[48 th] image_url =   https://t1.daumcdn.net/cafeattach/1Z3WG/c2f797fd08aa52acf213d1d525711784414107a6_re_1657970033720\n",
      "[49 th] image_url =   https://k.kakaocdn.net/dn/pxeAJ/btrO1xtU0R1/klUOmub4JJ1NtdtyCAoFO1/img.jpg\n",
      "[50 th] image_url =   https://k.kakaocdn.net/dn/dFvxvs/btrO0pDnGwu/Di9d6CaApOl2w9AgBEF9R0/img.jpg\n",
      "[51 th] image_url =   https://k.kakaocdn.net/dn/SN2Rt/btrOY9g0rLh/EExfxEhvpPF5oP0xIRbI10/img.jpg\n",
      "[52 th] image_url =   https://t1.daumcdn.net/cafeattach/1YmK3/58352fb0f9806c20a70828067f3e649677988cb8\n",
      "[53 th] image_url =   https://t1.daumcdn.net/cafeattach/1YmK3/9c6625bcf7e03465ca74d70f69cc2ed213bc21f1\n",
      "[54 th] image_url =   https://t1.daumcdn.net/news/202110/28/newsis/20211028214726180jnzs.jpg\n",
      "[55 th] image_url =   https://t1.daumcdn.net/cafeattach/mEr9/43f5f9811a23e1df3f6ea7de915777ba282158f9\n",
      "[56 th] image_url =   https://t1.daumcdn.net/cafeattach/mEr9/2a0073d457d6ff4576fdc4e9926cb9d86e69a8e1\n",
      "[57 th] image_url =   https://t1.daumcdn.net/cafeattach/mEr9/726cb7cf17996765c0b36cdb3d2d450f62e116d6\n",
      "[58 th] image_url =   https://t1.daumcdn.net/cafeattach/1S9oX/1d9cb40bdfbf8d4e19c802bc83b515d401542364\n",
      "[59 th] image_url =   https://t1.daumcdn.net/cafeattach/1YmK3/da364b4854a42b7d3eb67e2f325eb00e1b5797fa\n",
      "[60 th] image_url =   https://t1.daumcdn.net/cafeattach/1XwS9/d4971b9c1cc9810f8c37c389a34c8dc7fedf5d2e\n",
      "[61 th] image_url =   https://image.fmkorea.com/files/attach/new2/20221008/486616/803488095/5087803717/fdfb511cb4c47a97804c34c38bc6f2c7.png\n",
      "[62 th] image_url =   https://t1.daumcdn.net/cafeattach/1YmK3/299e0d9a1c9abc6a14ee829dccc3c11e745b1e8f\n",
      "[63 th] image_url =   https://t1.daumcdn.net/cafeattach/1YmK3/d5af1485fdcf98512a4860fc88bf198f9b2a9d95\n",
      "[64 th] image_url =   https://t1.daumcdn.net/news/202209/06/seouleconomy/20220906214602627jdfx.jpg\n",
      "[65 th] image_url =   https://t1.daumcdn.net/cafeattach/1YmK3/31eff5e7aa4965b106a7b5bc9c866e73e7240543\n",
      "[66 th] image_url =   https://t1.daumcdn.net/cafeattach/1YJNK/e25a6e3a341e9e518ce7cd4a67a1565dd9bc2037\n",
      "[67 th] image_url =   https://k.kakaocdn.net/dn/vtVNQ/btrGRHfCHRD/oav3KNWO2QzlI0iqwzpxI0/img.jpg\n",
      "[68 th] image_url =   https://t1.daumcdn.net/cafeattach/mEr9/c83082fa4f6460c9a7de41dcef45ba7ae902b539\n",
      "[69 th] image_url =   https://t1.daumcdn.net/cafeattach/1YmK3/883c31f3d3b18f5faea64eeffd8b0677685ff1be\n",
      "[70 th] image_url =   https://t1.daumcdn.net/cafeattach/1YmK3/44207485617506c92afbedb01be303a5d6395442\n",
      "[71 th] image_url =   https://t1.daumcdn.net/cafeattach/mEr9/569cab71a509663e9e39935b9bf9a65be6ba09cf\n",
      "[72 th] image_url =   https://k.kakaocdn.net/dn/zd0Md/btrNqXOMHje/Maimep66QY6cKmyKNq0TG1/img.png\n",
      "[73 th] image_url =   https://k.kakaocdn.net/dn/b883Zy/btrFlEvKjZr/Vw5HX3ivFxWDdix6xoUII0/img.jpg\n",
      "[74 th] image_url =   https://k.kakaocdn.net/dn/crgfRO/btrNxe5Be8a/i6NqxrXuW9ekTsxK2II4T0/img.jpg\n",
      "[75 th] image_url =   https://t1.daumcdn.net/cafeattach/1YJNK/e8a5f80e78b7d6d450b0daaa365a4a6cd5158540\n",
      "[76 th] image_url =   https://t1.daumcdn.net/cafeattach/1YmK3/f7151632e2fbaa81158b289320868223782b213d_re_1656856134029\n",
      "[77 th] image_url =   https://t1.daumcdn.net/news/202209/30/xportsnews/20220930133803389picx.jpg\n",
      "[78 th] image_url =   https://k.kakaocdn.net/dn/bmxHyK/btrNAw5B8pG/y8etTdLOOtIP7KaYShKn2k/img.jpg\n",
      "[79 th] image_url =   https://t1.daumcdn.net/news/202210/18/xportsnews/20221018190049645dlzh.jpg\n"
     ]
    },
    {
     "name": "stdout",
     "output_type": "stream",
     "text": [
      "[81 th] image_url =   https://t1.daumcdn.net/news/202210/18/xportsnews/20221018191917145cwnz.jpg\n",
      "[82 th] image_url =   https://t1.daumcdn.net/news/202210/18/xportsnews/20221018192254971obuq.jpg\n",
      "[83 th] image_url =   https://k.kakaocdn.net/dn/meq3I/btrQaKMIWfC/NyzPJh6X5RRapG2kKYYkYk/img.jpg\n",
      "[84 th] image_url =   https://k.kakaocdn.net/dn/b60nPx/btrMHJFj0Os/5bk7LPUSKIpOcKBD4BE2nK/img.jpg\n",
      "[85 th] image_url =   https://t1.daumcdn.net/news/202205/03/cosmopolitan/20220503100115545obga.jpg\n",
      "[86 th] image_url =   https://k.kakaocdn.net/dn/cxemj8/btrMEtnvFiA/Jf8FJZPvfvk8ueYxTu4XM0/img.jpg\n",
      "[87 th] image_url =   https://k.kakaocdn.net/dn/HFTUC/btrMDRPN9eG/SfUpZhS0xkkkfMkaZIMos0/img.jpg\n",
      "[88 th] image_url =   https://k.kakaocdn.net/dn/bTdlFn/btrMEh8Aujv/QSZAs4bpXsZgLkI7bAwfKk/img.jpg\n",
      "[89 th] image_url =   https://k.kakaocdn.net/dn/bgG5Qz/btrPGPHlvDL/GH01LSMflAXKngypkMPBwK/img.jpg\n",
      "[90 th] image_url =   https://k.kakaocdn.net/dn/cwuBYI/btrNMaagAAE/3ufAjC5a4sWEgjOve3MQSK/img.jpg\n",
      "[91 th] image_url =   https://t1.daumcdn.net/news/202209/21/NEWS1/20220921165040851fspa.jpg\n",
      "[92 th] image_url =   https://k.kakaocdn.net/dn/AVvoJ/btrE5sJ1YbA/IwsY5zZdd53KIv7eGq0rhk/img.jpg\n",
      "[93 th] image_url =   https://k.kakaocdn.net/dn/BTUo1/btq8VFVIKjd/jks5gVqe85q2k58HiIASzK/img.jpg\n",
      "[94 th] image_url =   https://k.kakaocdn.net/dn/KYwzW/btrE4INBOFN/Xk249gBojlm5I78BLkBrY1/img.jpg\n",
      "[95 th] image_url =   https://k.kakaocdn.net/dn/bB2BO1/btrzIosvSIy/ObRWcV0TNP8wvKvBlC76Wk/img.jpg\n",
      "[96 th] image_url =   https://t1.daumcdn.net/news/202109/01/moneyweek/20210901000700533wyyy.jpg\n",
      "[97 th] image_url =   https://t1.daumcdn.net/news/202204/24/NEWS1/20220424150340381nwil.jpg\n",
      "[98 th] image_url =   https://t1.daumcdn.net/news/202201/01/starnews/20220101010701358qsay.jpg\n",
      "[99 th] image_url =   https://t1.daumcdn.net/news/202205/03/cosmopolitan/20220503100116731srcb.jpg\n",
      "[100 th] image_url =   https://t1.daumcdn.net/news/202206/24/starnews/20220624182125208xhkh.jpg\n",
      "[101 th] image_url =   https://k.kakaocdn.net/dn/bz14kp/btrMIGVsZqR/Eke1oQCRy4zLb1zopSn6D1/img.jpg\n",
      "[102 th] image_url =   https://k.kakaocdn.net/dn/zFWCy/btrPaHX5SSH/JP6lyvur3LwFidCZUWBLc0/img.jpg\n",
      "[103 th] image_url =   https://k.kakaocdn.net/dn/6iJo9/btrO92nuioF/cm20NsBFlWWz9luBSU314k/img.jpg\n",
      "[104 th] image_url =   https://t1.daumcdn.net/news/202109/07/poctan/20210907202339524xxac.jpg\n",
      "[105 th] image_url =   https://k.kakaocdn.net/dn/bu9kZv/btrNyEJFX4Z/t1aqgSLMqQzAx12kh8tJY1/img.jpg\n",
      "[106 th] image_url =   https://k.kakaocdn.net/dn/bQqogu/btrzHOrJEGF/npbCfjpkA94c6yKbpGTPu1/img.jpg\n",
      "[107 th] image_url =   https://k.kakaocdn.net/dn/bauLlM/btrA6y8qiRo/nFU5KoQlt23vMYIYGtn24K/img.png\n",
      "[108 th] image_url =   https://k.kakaocdn.net/dn/bPqBHM/btrMDz9HlM0/qduiuj3pjG8UmnPo982D51/img.jpg\n",
      "[109 th] image_url =   https://t1.daumcdn.net/news/202209/06/starnews/20220906202100522gxtw.jpg\n",
      "[110 th] image_url =   https://k.kakaocdn.net/dn/bgWm3H/btrMDEwgIFP/NTPkKkkPD7ralIm68RsRKk/img.jpg\n",
      "[111 th] image_url =   https://t1.daumcdn.net/news/202209/06/starnews/20220906202243703kfgv.jpg\n",
      "[112 th] image_url =   https://t1.daumcdn.net/news/202111/21/starnews/20211121093234624nszo.jpg\n",
      "[113 th] image_url =   https://t1.daumcdn.net/news/202107/12/mksports/20210712232405921jtcp.jpg\n",
      "[114 th] image_url =   https://t1.daumcdn.net/news/202207/13/starnews/20220713131020606vfpr.jpg\n",
      "[115 th] image_url =   https://k.kakaocdn.net/dn/ca1xqa/btrE3GCCL2g/nEsDiWxfcxKg093iq5zzlk/img.jpg\n",
      "[116 th] image_url =   https://k.kakaocdn.net/dn/5HRRE/btrA6yN8QVN/QevV392Jr9jWrBLcf6HoG1/img.png\n",
      "[117 th] image_url =   https://t1.daumcdn.net/news/202207/10/10asia/20220710222905248kdzi.jpg\n",
      "[118 th] image_url =   https://k.kakaocdn.net/dn/wleZs/btrNILvve7Q/4ZjRAaES5Z4YssrfqPqjt0/img.jpg\n",
      "[119 th] image_url =   https://t1.daumcdn.net/news/202106/27/starnews/20210627092032971tfnd.jpg\n",
      "[120 th] image_url =   https://t1.daumcdn.net/news/202112/10/mksports/20211210071203286iohp.jpg\n",
      "[121 th] image_url =   https://t1.daumcdn.net/news/202106/20/startoday/20210620151806656zdag.jpg\n",
      "[122 th] image_url =   https://t1.daumcdn.net/news/202109/01/moneyweek/20210901000701748edfd.jpg\n",
      "[123 th] image_url =   https://t1.daumcdn.net/news/202111/21/starnews/20211121091538330zjpm.jpg\n",
      "[124 th] image_url =   https://k.kakaocdn.net/dn/dHSyS6/btrIlwPh4qq/ZSPOMzKaUD8qYnyakbKw4k/img.jpg\n",
      "[125 th] image_url =   https://k.kakaocdn.net/dn/IM8lN/btrNM322fKl/K0iQhV93sEblNvymG3SGmk/img.jpg\n",
      "[126 th] image_url =   https://t1.daumcdn.net/news/202206/24/starnews/20220624182329899cnrb.jpg\n",
      "[127 th] image_url =   https://t1.daumcdn.net/news/202109/01/moneyweek/20210901000702917qcgz.jpg\n",
      "[128 th] image_url =   https://k.kakaocdn.net/dn/bSm7aB/btrsRaIF6hP/XCg9WFH1F9mo5pDwWj8b91/img.png\n",
      "[129 th] image_url =   https://t1.daumcdn.net/cafeattach/mEr9/588ac4b8932d965174abeb1839de112c569a47e0\n",
      "[130 th] image_url =   https://t1.daumcdn.net/cafeattach/1YmK3/45f1e0105089981fe85bcf0e891345ff253ac7b1\n",
      "[131 th] image_url =   https://t1.daumcdn.net/news/202209/02/starnews/20220902105921768tyds.jpg\n",
      "[132 th] image_url =   https://k.kakaocdn.net/dn/bB14Mc/btrNoavbNa6/RrFDgLo3l9qGdDCU440yyK/img.png\n",
      "[133 th] image_url =   https://t1.daumcdn.net/news/202207/15/10asia/20220715145710165gqqm.jpg\n",
      "[134 th] image_url =   https://t1.daumcdn.net/news/202208/30/starnews/20220830153827109bdlv.jpg\n",
      "[135 th] image_url =   https://t1.daumcdn.net/news/202109/10/SpoHankook/20210910165502028ywzb.jpg\n",
      "[136 th] image_url =   https://k.kakaocdn.net/dn/C7QgT/btrA34na2m5/wzsREIQcHUIHwEmuoGqKZK/img.png\n",
      "[137 th] image_url =   https://t1.daumcdn.net/news/202112/02/starnews/20211202224226001fglj.jpg\n",
      "[138 th] image_url =   https://k.kakaocdn.net/dn/bqJtP0/btrNwnnvmnQ/OZikaT93QORXZbLuXW5Rtk/img.jpg\n",
      "[139 th] image_url =   https://t1.daumcdn.net/news/202111/28/ked/20211128183204510jbjb.jpg\n",
      "[140 th] image_url =   https://t1.daumcdn.net/news/202207/10/spotvnews/20220710183154654iegl.jpg\n",
      "[141 th] image_url =   https://k.kakaocdn.net/dn/lSkZq/btrIiFlZu3V/23WaAG4PeckRC9VmZz4Pu0/img.jpg\n",
      "[142 th] image_url =   https://k.kakaocdn.net/dn/be0wze/btrO0oRKj6a/MKoCi5APdRM50Vu14Lfda1/img.jpg\n",
      "[143 th] image_url =   https://t1.daumcdn.net/news/202204/20/starnews/20220420131732410dpqv.jpg\n",
      "[144 th] image_url =   https://t1.daumcdn.net/news/202112/02/starnews/20211202224156702vhsb.jpg\n",
      "[145 th] image_url =   https://t1.daumcdn.net/news/202210/04/starnews/20221004163049183amud.jpg\n",
      "[146 th] image_url =   https://k.kakaocdn.net/dn/vRjN6/btrDyncJCTk/6W6Hbis3NKZ9lTw4MrTM20/img.jpg\n",
      "[147 th] image_url =   https://t1.daumcdn.net/news/202105/19/starnews/20210519120412201eofx.jpg\n",
      "[148 th] image_url =   https://k.kakaocdn.net/dn/AuDpH/btrGPOZJgSV/HbzTvJC67UakF9tPWmIkO1/img.png\n",
      "[149 th] image_url =   https://t1.daumcdn.net/news/202111/21/starnews/20211121092733854zgbs.jpg\n",
      "[150 th] image_url =   https://t1.daumcdn.net/news/202210/05/sportskhan/20221005142021547apgw.jpg\n",
      "[151 th] image_url =   https://t1.daumcdn.net/cafeattach/1YmK3/5b05b1df3922492ac7ef82faff533afafae7fae7\n",
      "[152 th] image_url =   https://t1.daumcdn.net/cafeattach/1IHuH/a0173ee5a783e9a73f6c940532b2a51069e0beb9\n",
      "[153 th] image_url =   https://t1.daumcdn.net/news/202202/24/starnews/20220224152913426svhj.jpg\n",
      "[154 th] image_url =   https://k.kakaocdn.net/dn/AStOb/btrEisqC7nl/cqFtkfTZTA8tLXudgkVCMk/img.jpg\n",
      "[155 th] image_url =   https://t1.daumcdn.net/cafeattach/1YmK3/2288f39153b6d8c72b9214882eabefed7003c39b\n",
      "[156 th] image_url =   https://t1.daumcdn.net/news/202209/17/starnews/20220917231208027mcwm.jpg\n",
      "[157 th] image_url =   https://k.kakaocdn.net/dn/dohu06/btrO0IJLE9a/4T77SmxsWJV0KY0PKSt5fK/img.jpg\n",
      "[158 th] image_url =   https://t1.daumcdn.net/news/202111/15/starnews/20211115015158160oguc.jpg\n",
      "[159 th] image_url =   https://t1.daumcdn.net/news/202209/30/starnews/20220930104039889prvm.jpg\n",
      "[160 th] image_url =   https://t1.daumcdn.net/cafeattach/1YmK3/c495770ad021b7f3e599d72ac50fba35b8bef5c8\n"
     ]
    }
   ],
   "source": [
    "func1()"
   ]
  },
  {
   "cell_type": "code",
   "execution_count": null,
   "id": "fc082e85",
   "metadata": {},
   "outputs": [],
   "source": []
  }
 ],
 "metadata": {
  "kernelspec": {
   "display_name": "Python 3 (ipykernel)",
   "language": "python",
   "name": "python3"
  },
  "language_info": {
   "codemirror_mode": {
    "name": "ipython",
    "version": 3
   },
   "file_extension": ".py",
   "mimetype": "text/x-python",
   "name": "python",
   "nbconvert_exporter": "python",
   "pygments_lexer": "ipython3",
   "version": "3.9.13"
  },
  "toc": {
   "base_numbering": 1,
   "nav_menu": {},
   "number_sections": true,
   "sideBar": true,
   "skip_h1_title": false,
   "title_cell": "Table of Contents",
   "title_sidebar": "Contents",
   "toc_cell": false,
   "toc_position": {},
   "toc_section_display": true,
   "toc_window_display": false
  },
  "varInspector": {
   "cols": {
    "lenName": 16,
    "lenType": 16,
    "lenVar": 40
   },
   "kernels_config": {
    "python": {
     "delete_cmd_postfix": "",
     "delete_cmd_prefix": "del ",
     "library": "var_list.py",
     "varRefreshCmd": "print(var_dic_list())"
    },
    "r": {
     "delete_cmd_postfix": ") ",
     "delete_cmd_prefix": "rm(",
     "library": "var_list.r",
     "varRefreshCmd": "cat(var_dic_list()) "
    }
   },
   "types_to_exclude": [
    "module",
    "function",
    "builtin_function_or_method",
    "instance",
    "_Feature"
   ],
   "window_display": false
  }
 },
 "nbformat": 4,
 "nbformat_minor": 5
}
